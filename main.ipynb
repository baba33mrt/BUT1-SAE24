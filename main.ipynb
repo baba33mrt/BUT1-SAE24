{
 "cells": [
  {
   "cell_type": "code",
   "execution_count": 6,
   "metadata": {
    "collapsed": true
   },
   "outputs": [
    {
     "name": "stdout",
     "output_type": "stream",
     "text": [
      "###[ IP ]### \n",
      "  version   = 4\n",
      "  ihl       = None\n",
      "  tos       = 0x0\n",
      "  len       = None\n",
      "  id        = 1\n",
      "  flags     = \n",
      "  frag      = 0\n",
      "  ttl       = 64\n",
      "  proto     = udp\n",
      "  chksum    = None\n",
      "  src       = 10.8.32.140\n",
      "  dst       = 10.8.0.1\n",
      "  \\options   \\\n",
      "###[ UDP ]### \n",
      "     sport     = domain\n",
      "     dport     = domain\n",
      "     len       = None\n",
      "     chksum    = None\n",
      "\n"
     ]
    }
   ],
   "source": [
    "from scapy.all import *\n",
    "\n",
    "ips = '10.8.32.140'\n",
    "ipd = '10.8.0.1'\n",
    "paquet2=IP(src=ips, dst=ipd)/UDP()\n",
    "\n",
    "paquet2.show()\n",
    "paquet2.show2()"
   ]
  },
  {
   "cell_type": "code",
   "execution_count": null,
   "outputs": [],
   "source": [],
   "metadata": {
    "collapsed": false
   }
  }
 ],
 "metadata": {
  "kernelspec": {
   "display_name": "Python 3",
   "language": "python",
   "name": "python3"
  },
  "language_info": {
   "codemirror_mode": {
    "name": "ipython",
    "version": 2
   },
   "file_extension": ".py",
   "mimetype": "text/x-python",
   "name": "python",
   "nbconvert_exporter": "python",
   "pygments_lexer": "ipython2",
   "version": "2.7.6"
  }
 },
 "nbformat": 4,
 "nbformat_minor": 0
}
